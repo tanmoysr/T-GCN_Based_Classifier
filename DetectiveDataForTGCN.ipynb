{
 "cells": [
  {
   "cell_type": "code",
   "execution_count": 6,
   "metadata": {},
   "outputs": [],
   "source": [
    "import argparse\n",
    "import traceback\n",
    "import pytorch_lightning as pl\n",
    "from pytorch_lightning.utilities import rank_zero_info\n",
    "import models\n",
    "import tasks\n",
    "import utils.callbacks\n",
    "import utils.data\n",
    "import utils.email\n",
    "import utils.logging\n",
    "import numpy as np"
   ]
  },
  {
   "cell_type": "code",
   "execution_count": 7,
   "metadata": {},
   "outputs": [
    {
     "data": {
      "text/plain": [
       "_StoreAction(option_strings=['--data'], dest='data', nargs=None, const=None, default='losloop', type=<class 'str'>, choices=('shenzhen', 'losloop'), help='The name of the dataset', metavar=None)"
      ]
     },
     "execution_count": 7,
     "metadata": {},
     "output_type": "execute_result"
    }
   ],
   "source": [
    "parser = argparse.ArgumentParser()\n",
    "parser = pl.Trainer.add_argparse_args(parser)\n",
    "parser.add_argument(\n",
    "        \"--data\", type=str, help=\"The name of the dataset\", choices=(\"shenzhen\", \"losloop\"), default=\"losloop\"\n",
    "    )"
   ]
  },
  {
   "cell_type": "code",
   "execution_count": 153,
   "metadata": {},
   "outputs": [],
   "source": [
    "import scipy.io\n",
    "# data = scipy.io.loadmat('data/data_detective/flu_datasets/2011-2012_flu_normalized.mat')\n",
    "# data = scipy.io.loadmat('data/data_detective/civil_datasets/2013-2014_argentina.mat')\n",
    "# Multi-class data\n",
    "# data = scipy.io.loadmat('data/data_detective/civil_datasets/2013-2014_brazil.mat')\n",
    "# data = scipy.io.loadmat('data/data_detective/civil_datasets/2013-2014_colombia.mat')\n",
    "# data = scipy.io.loadmat('data/data_detective/civil_datasets/2013-2014_mexico.mat')\n",
    "# data = scipy.io.loadmat('data/data_detective/civil_datasets/2013-2014_paraguay.mat')\n",
    "data = scipy.io.loadmat('data/data_detective/air_datasets/china_air.mat')"
   ]
  },
  {
   "cell_type": "code",
   "execution_count": 154,
   "metadata": {},
   "outputs": [
    {
     "data": {
      "text/plain": [
       "(10, 365, 1344)"
      ]
     },
     "execution_count": 154,
     "metadata": {},
     "output_type": "execute_result"
    }
   ],
   "source": [
    "data['X'].shape"
   ]
  },
  {
   "cell_type": "code",
   "execution_count": 155,
   "metadata": {},
   "outputs": [],
   "source": [
    "adj_name = 'State_adj'\n",
    "y_key = 'Y5'\n",
    "x_data = np.array(data['X'],dtype=np.float16)  # shape (26,550,1289) (Task ID (Spatial location), Sample (Temporal-Days), Features(TF-IDF)) # Civil Unrest Data\n",
    "y_data = np.array(data[y_key],dtype=np.float16)  # shape (26, 550) # Y5\n",
    "adj_data = np.array(data[adj_name],dtype=np.float16)  # shape (26, 26)"
   ]
  },
  {
   "cell_type": "code",
   "execution_count": 156,
   "metadata": {},
   "outputs": [],
   "source": [
    "import pandas as pd\n",
    "DF = pd.DataFrame(adj_data)\n",
    "DF.to_csv(\"data/china_air_adj.csv\", index=False, header=False)"
   ]
  },
  {
   "cell_type": "code",
   "execution_count": 157,
   "metadata": {},
   "outputs": [],
   "source": [
    "y_data_3d = np.expand_dims(y_data, axis=2)\n",
    "data_concat = np.concatenate((x_data, y_data_3d), axis=2)"
   ]
  },
  {
   "cell_type": "code",
   "execution_count": 158,
   "metadata": {},
   "outputs": [
    {
     "data": {
      "text/plain": [
       "(10, 365)"
      ]
     },
     "execution_count": 158,
     "metadata": {},
     "output_type": "execute_result"
    }
   ],
   "source": [
    "y_data_3d.shape\n",
    "y_data.shape"
   ]
  },
  {
   "cell_type": "code",
   "execution_count": 159,
   "metadata": {},
   "outputs": [
    {
     "data": {
      "text/plain": [
       "55.0"
      ]
     },
     "execution_count": 159,
     "metadata": {},
     "output_type": "execute_result"
    }
   ],
   "source": [
    "550/10"
   ]
  },
  {
   "cell_type": "code",
   "execution_count": 160,
   "metadata": {},
   "outputs": [
    {
     "data": {
      "text/plain": [
       "(10, 490925)"
      ]
     },
     "execution_count": 160,
     "metadata": {},
     "output_type": "execute_result"
    }
   ],
   "source": [
    "data_concat.shape\n",
    "data_concat.reshape(data_concat.shape[0],-1).shape"
   ]
  },
  {
   "cell_type": "code",
   "execution_count": 161,
   "metadata": {},
   "outputs": [
    {
     "data": {
      "text/html": [
       "<div>\n",
       "<style scoped>\n",
       "    .dataframe tbody tr th:only-of-type {\n",
       "        vertical-align: middle;\n",
       "    }\n",
       "\n",
       "    .dataframe tbody tr th {\n",
       "        vertical-align: top;\n",
       "    }\n",
       "\n",
       "    .dataframe thead th {\n",
       "        text-align: right;\n",
       "    }\n",
       "</style>\n",
       "<table border=\"1\" class=\"dataframe\">\n",
       "  <thead>\n",
       "    <tr style=\"text-align: right;\">\n",
       "      <th></th>\n",
       "      <th>0</th>\n",
       "      <th>1</th>\n",
       "      <th>2</th>\n",
       "      <th>3</th>\n",
       "      <th>4</th>\n",
       "      <th>5</th>\n",
       "      <th>6</th>\n",
       "      <th>7</th>\n",
       "      <th>8</th>\n",
       "      <th>9</th>\n",
       "    </tr>\n",
       "  </thead>\n",
       "  <tbody>\n",
       "    <tr>\n",
       "      <th>0</th>\n",
       "      <td>0.134155</td>\n",
       "      <td>0.129639</td>\n",
       "      <td>0.079651</td>\n",
       "      <td>0.062927</td>\n",
       "      <td>0.145874</td>\n",
       "      <td>0.127075</td>\n",
       "      <td>0.098511</td>\n",
       "      <td>0.124207</td>\n",
       "      <td>0.172119</td>\n",
       "      <td>0.044678</td>\n",
       "    </tr>\n",
       "    <tr>\n",
       "      <th>1</th>\n",
       "      <td>0.149170</td>\n",
       "      <td>0.128784</td>\n",
       "      <td>0.083679</td>\n",
       "      <td>0.060272</td>\n",
       "      <td>0.140259</td>\n",
       "      <td>0.122192</td>\n",
       "      <td>0.104736</td>\n",
       "      <td>0.127075</td>\n",
       "      <td>0.177002</td>\n",
       "      <td>0.060272</td>\n",
       "    </tr>\n",
       "    <tr>\n",
       "      <th>2</th>\n",
       "      <td>0.168945</td>\n",
       "      <td>0.116028</td>\n",
       "      <td>0.083374</td>\n",
       "      <td>0.057037</td>\n",
       "      <td>0.147583</td>\n",
       "      <td>0.066040</td>\n",
       "      <td>0.107605</td>\n",
       "      <td>0.126953</td>\n",
       "      <td>0.140015</td>\n",
       "      <td>0.072754</td>\n",
       "    </tr>\n",
       "    <tr>\n",
       "      <th>3</th>\n",
       "      <td>0.176147</td>\n",
       "      <td>0.099609</td>\n",
       "      <td>0.098389</td>\n",
       "      <td>0.059082</td>\n",
       "      <td>0.145874</td>\n",
       "      <td>0.068176</td>\n",
       "      <td>0.101990</td>\n",
       "      <td>0.142212</td>\n",
       "      <td>0.125732</td>\n",
       "      <td>0.057678</td>\n",
       "    </tr>\n",
       "    <tr>\n",
       "      <th>4</th>\n",
       "      <td>0.204468</td>\n",
       "      <td>0.082581</td>\n",
       "      <td>0.173828</td>\n",
       "      <td>0.057281</td>\n",
       "      <td>0.135498</td>\n",
       "      <td>0.056732</td>\n",
       "      <td>0.095520</td>\n",
       "      <td>0.140259</td>\n",
       "      <td>0.132935</td>\n",
       "      <td>0.061005</td>\n",
       "    </tr>\n",
       "  </tbody>\n",
       "</table>\n",
       "</div>"
      ],
      "text/plain": [
       "          0         1         2         3         4         5         6  \\\n",
       "0  0.134155  0.129639  0.079651  0.062927  0.145874  0.127075  0.098511   \n",
       "1  0.149170  0.128784  0.083679  0.060272  0.140259  0.122192  0.104736   \n",
       "2  0.168945  0.116028  0.083374  0.057037  0.147583  0.066040  0.107605   \n",
       "3  0.176147  0.099609  0.098389  0.059082  0.145874  0.068176  0.101990   \n",
       "4  0.204468  0.082581  0.173828  0.057281  0.135498  0.056732  0.095520   \n",
       "\n",
       "          7         8         9  \n",
       "0  0.124207  0.172119  0.044678  \n",
       "1  0.127075  0.177002  0.060272  \n",
       "2  0.126953  0.140015  0.072754  \n",
       "3  0.142212  0.125732  0.057678  \n",
       "4  0.140259  0.132935  0.061005  "
      ]
     },
     "execution_count": 161,
     "metadata": {},
     "output_type": "execute_result"
    }
   ],
   "source": [
    "DF_feat = pd.DataFrame(np.swapaxes(data_concat.reshape(data_concat.shape[0],-1), 0, 1))\n",
    "# DF_feat = pd.DataFrame(np.swapaxes(y_data, 0, 1))\n",
    "DF_feat.head()"
   ]
  },
  {
   "cell_type": "code",
   "execution_count": 162,
   "metadata": {},
   "outputs": [],
   "source": [
    "DF_feat.to_csv(\"data/china_air_feat.csv\", index=False, header=True)"
   ]
  },
  {
   "cell_type": "code",
   "execution_count": 151,
   "metadata": {},
   "outputs": [
    {
     "data": {
      "text/plain": [
       "array([0., 1., 2., 3., 4.], dtype=float16)"
      ]
     },
     "execution_count": 151,
     "metadata": {},
     "output_type": "execute_result"
    }
   ],
   "source": [
    "# dtype=np.float16\n",
    "np.unique(y_data-1)\n"
   ]
  },
  {
   "cell_type": "code",
   "execution_count": 163,
   "metadata": {},
   "outputs": [],
   "source": [
    "DF_Y = pd.DataFrame(np.swapaxes(y_data-1, 0, 1))\n",
    "DF_Y.to_csv(\"data/china_air_y.csv\", index=False, header=True)"
   ]
  },
  {
   "cell_type": "code",
   "execution_count": 79,
   "metadata": {},
   "outputs": [
    {
     "data": {
      "text/plain": [
       "[4]"
      ]
     },
     "execution_count": 79,
     "metadata": {},
     "output_type": "execute_result"
    }
   ],
   "source": [
    "tsss = [1, 2, 3, 4, 5, 6]\n",
    "tsss[0+3:0+3+1]"
   ]
  },
  {
   "cell_type": "code",
   "execution_count": 83,
   "metadata": {},
   "outputs": [
    {
     "name": "stdout",
     "output_type": "stream",
     "text": [
      "[1, 2]\n",
      "[3]\n",
      "[4, 5]\n",
      "[6]\n"
     ]
    }
   ],
   "source": [
    "seq_len = 2\n",
    "pre_len = 1\n",
    "xxx=[]\n",
    "for i in range(0, (len(tsss)), (seq_len + pre_len)):\n",
    "    print(tsss[i : i + seq_len])\n",
    "    print(tsss[i + seq_len : i + seq_len + pre_len])\n",
    "#     xxx.append(i)\n",
    "    pass"
   ]
  },
  {
   "cell_type": "code",
   "execution_count": 46,
   "metadata": {},
   "outputs": [
    {
     "data": {
      "text/plain": [
       "364.0"
      ]
     },
     "execution_count": 46,
     "metadata": {},
     "output_type": "execute_result"
    }
   ],
   "source": [
    "len(xxx)/2"
   ]
  },
  {
   "cell_type": "code",
   "execution_count": 76,
   "metadata": {},
   "outputs": [
    {
     "data": {
      "text/plain": [
       "344025"
      ]
     },
     "execution_count": 76,
     "metadata": {},
     "output_type": "execute_result"
    }
   ],
   "source": [
    "342774+1251"
   ]
  },
  {
   "cell_type": "code",
   "execution_count": 85,
   "metadata": {},
   "outputs": [
    {
     "data": {
      "text/plain": [
       "550.0"
      ]
     },
     "execution_count": 85,
     "metadata": {},
     "output_type": "execute_result"
    }
   ],
   "source": [
    "688050/1251"
   ]
  },
  {
   "cell_type": "code",
   "execution_count": null,
   "metadata": {},
   "outputs": [],
   "source": []
  }
 ],
 "metadata": {
  "kernelspec": {
   "display_name": "Python [conda env:neural-subgraph-learning-GNN-master]",
   "language": "python",
   "name": "conda-env-neural-subgraph-learning-GNN-master-py"
  },
  "language_info": {
   "codemirror_mode": {
    "name": "ipython",
    "version": 3
   },
   "file_extension": ".py",
   "mimetype": "text/x-python",
   "name": "python",
   "nbconvert_exporter": "python",
   "pygments_lexer": "ipython3",
   "version": "3.7.10"
  }
 },
 "nbformat": 4,
 "nbformat_minor": 2
}
